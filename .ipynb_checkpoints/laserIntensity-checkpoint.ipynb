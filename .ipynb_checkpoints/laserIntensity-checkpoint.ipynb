{
 "cells": [
  {
   "cell_type": "code",
   "execution_count": 7,
   "metadata": {},
   "outputs": [
    {
     "data": {
      "text/plain": [
       "39788.735772973836"
      ]
     },
     "execution_count": 7,
     "metadata": {},
     "output_type": "execute_result"
    }
   ],
   "source": [
    "import numpy as np\n",
    "w = 2 #µm\n",
    "power = 5#µW\n",
    "Ic_um_uW = power / (np.pi * w**2)\n",
    "Ic_cm_uW = Ic_um_uW * 1e8\n",
    "Ic_cm_mW = Ic_um_uW * 1e5\n",
    "Ic_m_mW = Ic_um_uW * 1e9\n",
    "Ic_cm_mW"
   ]
  },
  {
   "cell_type": "code",
   "execution_count": null,
   "metadata": {},
   "outputs": [],
   "source": [
    "'''\n",
    "I = A exp(-r^2/w^2)\n",
    "Ic = A\n",
    "P = Integrate(I, {2 * pi * r * dr, 0, inf})\n",
    "  = A * pi * Integrate(exp(-x/w^2), {x, 0, inf})\n",
    "  = A * pi * w^2\n",
    "Ic = P / (pi * w^2)\n",
    "\n",
    "\n",
    "\n",
    "'''"
   ]
  }
 ],
 "metadata": {
  "kernelspec": {
   "display_name": "Python 3",
   "language": "python",
   "name": "python3"
  },
  "language_info": {
   "codemirror_mode": {
    "name": "ipython",
    "version": 3
   },
   "file_extension": ".py",
   "mimetype": "text/x-python",
   "name": "python",
   "nbconvert_exporter": "python",
   "pygments_lexer": "ipython3",
   "version": "3.7.4"
  }
 },
 "nbformat": 4,
 "nbformat_minor": 4
}
