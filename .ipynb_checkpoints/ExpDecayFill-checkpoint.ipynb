{
 "cells": [
  {
   "cell_type": "code",
   "execution_count": 40,
   "metadata": {},
   "outputs": [
    {
     "data": {
      "text/plain": [
       "(-3497.5, 73447.5, -0.04312740523782411, 0.9245346383446582)"
      ]
     },
     "execution_count": 40,
     "metadata": {},
     "output_type": "execute_result"
    },
    {
     "data": {
      "image/png": "[encoded data removed]",
      "text/plain": [
       "<matplotlib.figure.Figure at 0x184d38d0048>"
      ]
     },
     "metadata": {},
     "output_type": "display_data"
    }
   ],
   "source": [
    "import numpy as np\n",
    "import matplotlib.pyplot as plt\n",
    "\n",
    "A1 = 0.17356\n",
    "A2 = 0.70699\n",
    "t1 = 13171.847165\n",
    "t2 = 600.36966\n",
    "\n",
    "t_list = np.arange(0,70000,70000/1400)\n",
    "y_list = A1*np.exp(-t_list/t1)+A2*np.exp(-t_list/t2)\n",
    "cutoff = int(5000/50)\n",
    "plt.plot(t_list[:cutoff],y_list[:cutoff],linewidth=15,color = 'pink')\n",
    "plt.plot(t_list[cutoff:],y_list[cutoff:],linewidth=15,color = 'skyblue')\n",
    "plt.axis('off')"
   ]
  },
  {
   "cell_type": "code",
   "execution_count": null,
   "metadata": {},
   "outputs": [],
   "source": []
  }
 ],
 "metadata": {
  "kernelspec": {
   "display_name": "Python 3",
   "language": "python",
   "name": "python3"
  },
  "language_info": {
   "codemirror_mode": {
    "name": "ipython",
    "version": 3
   },
   "file_extension": ".py",
   "mimetype": "text/x-python",
   "name": "python",
   "nbconvert_exporter": "python",
   "pygments_lexer": "ipython3",
   "version": "3.6.4"
  }
 },
 "nbformat": 4,
 "nbformat_minor": 2
}
