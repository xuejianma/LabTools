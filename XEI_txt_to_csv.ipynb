{
 "cells": [
  {
   "cell_type": "code",
   "execution_count": 24,
   "metadata": {},
   "outputs": [],
   "source": [
    "import numpy\n",
    "import pandas as pd\n",
    "\n",
    "def XEItxt_to_arrays(filepath,scales = [1.,1.,1.], offsets=[0.,0.,0.]):\n",
    "    df = pd.read_csv(filepath,sep='\\t',lineterminator='\\n',skiprows=6,index_col = False)\n",
    "    xs = df['X'].values*scales[0]+offsets[0]\n",
    "    ys = df['Y'].values*scales[1]+offsets[1]\n",
    "    signals = df['Z\\r'].values*scales[2]+offsets[2]\n",
    "    return xs,ys,signals\n",
    "def arrays_to_csv(xs,ys,signals,filepath):\n",
    "    df = pd.DataFrame()\n",
    "    df['X'] = xs\n",
    "    df['Y'] = ys\n",
    "    df['Signal'] = signals\n",
    "    df.to_csv(filepath[:-5]+'.csv')\n",
    "    return df\n",
    "\n",
    "# import numpy as np\n",
    "# filepath = './data/Perovskite_KaiZhu_3DTopography/200112Topography017.txt'\n",
    "# xs,ys,signals = XEItxt_to_arrays(filepath,scales = [1.,1.,0.001], offsets=[0.,0.,0.])\n",
    "# df = arrays_to_csv(xs,ys,signals,filepath)"
   ]
  },
  {
   "cell_type": "code",
   "execution_count": null,
   "metadata": {},
   "outputs": [],
   "source": []
  }
 ],
 "metadata": {
  "kernelspec": {
   "display_name": "Python 3",
   "language": "python",
   "name": "python3"
  }
 },
 "nbformat": 4,
 "nbformat_minor": 2
}
